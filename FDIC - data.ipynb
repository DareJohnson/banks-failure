{
 "cells": [
  {
   "attachments": {
    "FDIC.jpg": {
     "image/jpeg": "[encoded data removed]"
    }
   },
   "cell_type": "markdown",
   "metadata": {},
   "source": [
    "#### ![FDIC.jpg](attachment:FDIC.jpg)"
   ]
  },
  {
   "cell_type": "markdown",
   "metadata": {},
   "source": [
    "<b> FDIC</b> stands for Federal Deposit Insurance Corporation.\n",
    "\n",
    "Being a United States (independent) government agency which oversees the banking industry, it was established in 1933.<p>\n",
    "The Federal Deposit Insurance Corporation (FDIC) is a United States government corporation providing deposit insurance to depositors in U.S. commercial banks and savings institutions."
   ]
  },
  {
   "cell_type": "markdown",
   "metadata": {},
   "source": [
    "#### Few FACTS "
   ]
  },
  {
   "cell_type": "markdown",
   "metadata": {},
   "source": [
    "- The <b>FDIC</b> was created in 1933 in response to the banking crisis of the Great Depression.\n",
    "- The <b>FDIC</b> insures deposits up to 250,000 per depositor per insured bank.\n",
    "- The <b>FDIC</b> is an independent agency of the federal government, but it is funded by premiums paid by the banks and \n",
    "savings institutions it insures.\n",
    "- The <b>FDIC</b> has the power to take over and liquidate failed banks and savings institutions, and it also has the \n",
    "authority to borrow money from the U.S. Treasury if necessary to carry out its functions.\n",
    "- As of December 31, 2021, the FDIC insured deposits at 4,725 FDIC-insured institutions with total assets of 22.2 trillion.\n",
    "- The <b>FDIC</b> maintains a list of failed banks and savings institutions on its website, dating back to 1934.\n"
   ]
  },
  {
   "cell_type": "markdown",
   "metadata": {},
   "source": [
    "Then in March 2023, Silicon Valley Bank's, SVB, happened. <p>\n",
    "SVB collapsed due to a sudden bank run and capital crisis, according to media. It was taken over by federal regulators and was said to be the largest failure of a US bank since Washington Mutual in 2008. \n",
    "\n",
    "While the data here as at when sourced from the <b>FDIC</b> website did not include SVB data, these rather few analyses (not an all-inclusive one) attempt to see a few things which can be seen, like trends and patterns... knowing fully well that a lot happen behind the scenes which data might not have captured."
   ]
  },
  {
   "cell_type": "markdown",
   "metadata": {},
   "source": [
    "#### The data source is from the FDIC website, and publicly available.\n"
   ]
  },
  {
   "cell_type": "markdown",
   "metadata": {},
   "source": [
    "#### import libraries"
   ]
  },
  {
   "cell_type": "code",
   "execution_count": 1,
   "metadata": {},
   "outputs": [],
   "source": [
    "import pandas as pd\n",
    "import numpy as np\n",
    "import requests\n",
    "import warnings\n",
    "import matplotlib.pyplot as plt\n",
    "import seaborn as sns\n",
    "warnings.filterwarnings('ignore')"
   ]
  },
  {
   "cell_type": "markdown",
   "metadata": {},
   "source": [
    "#### retrieve the dataset from the url\n"
   ]
  },
  {
   "cell_type": "code",
   "execution_count": 2,
   "metadata": {},
   "outputs": [],
   "source": [
    "url = 'https://pfabankapi.app.cloud.gov/api/failures?fields=NAME%2CCERT%2CFIN%2CCITYST%2CFAILDATE%2CSAVR%2CRESTYPE%2CCOST%2CRESTYPE1%2CCHCLASS1%2CQBFDEP%2CQBFASSET&filters=FAILYR%3A%5B1934%20TO%202023%5D&limit=10000&react=true&sort_by=FAILDATE&sort_order=desc&subtotal_by=RESTYPE&total_fields=QBFDEP%2CQBFASSET%2CCOST&format=csv&download=true&filename=bank-data'\n",
    "response = requests.get(url)\n",
    "\n",
    "with open('data.csv', 'wb') as f:\n",
    "    f.write(response.content)"
   ]
  },
  {
   "cell_type": "code",
   "execution_count": 3,
   "metadata": {},
   "outputs": [
    {
     "data": {
      "text/html": [
       "<div>\n",
       "<style scoped>\n",
       "    .dataframe tbody tr th:only-of-type {\n",
       "        vertical-align: middle;\n",
       "    }\n",
       "\n",
       "    .dataframe tbody tr th {\n",
       "        vertical-align: top;\n",
       "    }\n",
       "\n",
       "    .dataframe thead th {\n",
       "        text-align: right;\n",
       "    }\n",
       "</style>\n",
       "<table border=\"1\" class=\"dataframe\">\n",
       "  <thead>\n",
       "    <tr style=\"text-align: right;\">\n",
       "      <th></th>\n",
       "      <th>CERT</th>\n",
       "      <th>CHCLASS1</th>\n",
       "      <th>CITYST</th>\n",
       "      <th>COST</th>\n",
       "      <th>FAILDATE</th>\n",
       "      <th>FIN</th>\n",
       "      <th>ID</th>\n",
       "      <th>NAME</th>\n",
       "      <th>QBFASSET</th>\n",
       "      <th>QBFDEP</th>\n",
       "      <th>RESTYPE</th>\n",
       "      <th>RESTYPE1</th>\n",
       "      <th>SAVR</th>\n",
       "    </tr>\n",
       "  </thead>\n",
       "  <tbody>\n",
       "    <tr>\n",
       "      <th>0</th>\n",
       "      <td>15426.0</td>\n",
       "      <td>NM</td>\n",
       "      <td>ALMENA, KS</td>\n",
       "      <td>16806.0</td>\n",
       "      <td>10/23/2020</td>\n",
       "      <td>10538</td>\n",
       "      <td>4104</td>\n",
       "      <td>ALMENA STATE BANK</td>\n",
       "      <td>65733.0</td>\n",
       "      <td>64941.0</td>\n",
       "      <td>FAILURE</td>\n",
       "      <td>PA</td>\n",
       "      <td>DIF</td>\n",
       "    </tr>\n",
       "    <tr>\n",
       "      <th>1</th>\n",
       "      <td>16748.0</td>\n",
       "      <td>NM</td>\n",
       "      <td>FORT WALTON BEACH, FL</td>\n",
       "      <td>7247.0</td>\n",
       "      <td>10/16/2020</td>\n",
       "      <td>10537</td>\n",
       "      <td>4103</td>\n",
       "      <td>FIRST CITY BANK OF FLORIDA</td>\n",
       "      <td>136566.0</td>\n",
       "      <td>133936.0</td>\n",
       "      <td>FAILURE</td>\n",
       "      <td>PA</td>\n",
       "      <td>DIF</td>\n",
       "    </tr>\n",
       "    <tr>\n",
       "      <th>2</th>\n",
       "      <td>14361.0</td>\n",
       "      <td>NM</td>\n",
       "      <td>BARBOURSVILLE, WV</td>\n",
       "      <td>45913.0</td>\n",
       "      <td>4/3/2020</td>\n",
       "      <td>10536</td>\n",
       "      <td>4102</td>\n",
       "      <td>THE FIRST STATE BANK</td>\n",
       "      <td>151808.0</td>\n",
       "      <td>143102.0</td>\n",
       "      <td>FAILURE</td>\n",
       "      <td>PA</td>\n",
       "      <td>DIF</td>\n",
       "    </tr>\n",
       "    <tr>\n",
       "      <th>3</th>\n",
       "      <td>18265.0</td>\n",
       "      <td>NM</td>\n",
       "      <td>ERICSON, NE</td>\n",
       "      <td>25293.0</td>\n",
       "      <td>2/14/2020</td>\n",
       "      <td>10535</td>\n",
       "      <td>4101</td>\n",
       "      <td>ERICSON STATE BANK</td>\n",
       "      <td>100879.0</td>\n",
       "      <td>95159.0</td>\n",
       "      <td>FAILURE</td>\n",
       "      <td>PA</td>\n",
       "      <td>DIF</td>\n",
       "    </tr>\n",
       "    <tr>\n",
       "      <th>4</th>\n",
       "      <td>21111.0</td>\n",
       "      <td>N</td>\n",
       "      <td>NEWARK, NJ</td>\n",
       "      <td>1946.0</td>\n",
       "      <td>11/1/2019</td>\n",
       "      <td>10534</td>\n",
       "      <td>4100</td>\n",
       "      <td>CITY NATIONAL BANK OF NEW JERSEY</td>\n",
       "      <td>120574.0</td>\n",
       "      <td>111234.0</td>\n",
       "      <td>FAILURE</td>\n",
       "      <td>PA</td>\n",
       "      <td>DIF</td>\n",
       "    </tr>\n",
       "  </tbody>\n",
       "</table>\n",
       "</div>"
      ],
      "text/plain": [
       "      CERT CHCLASS1                 CITYST     COST    FAILDATE    FIN    ID  \\\n",
       "0  15426.0       NM             ALMENA, KS  16806.0  10/23/2020  10538  4104   \n",
       "1  16748.0       NM  FORT WALTON BEACH, FL   7247.0  10/16/2020  10537  4103   \n",
       "2  14361.0       NM      BARBOURSVILLE, WV  45913.0    4/3/2020  10536  4102   \n",
       "3  18265.0       NM            ERICSON, NE  25293.0   2/14/2020  10535  4101   \n",
       "4  21111.0        N             NEWARK, NJ   1946.0   11/1/2019  10534  4100   \n",
       "\n",
       "                               NAME  QBFASSET    QBFDEP  RESTYPE RESTYPE1 SAVR  \n",
       "0                 ALMENA STATE BANK   65733.0   64941.0  FAILURE       PA  DIF  \n",
       "1        FIRST CITY BANK OF FLORIDA  136566.0  133936.0  FAILURE       PA  DIF  \n",
       "2              THE FIRST STATE BANK  151808.0  143102.0  FAILURE       PA  DIF  \n",
       "3                ERICSON STATE BANK  100879.0   95159.0  FAILURE       PA  DIF  \n",
       "4  CITY NATIONAL BANK OF NEW JERSEY  120574.0  111234.0  FAILURE       PA  DIF  "
      ]
     },
     "execution_count": 3,
     "metadata": {},
     "output_type": "execute_result"
    }
   ],
   "source": [
    "# check first 5 rows\n",
    "data = pd.read_csv('data.csv')\n",
    "data.head()"
   ]
  },
  {
   "cell_type": "code",
   "execution_count": 4,
   "metadata": {},
   "outputs": [
    {
     "data": {
      "text/plain": [
       "Index(['CERT', 'CHCLASS1', 'CITYST', 'COST', 'FAILDATE', 'FIN', 'ID', 'NAME',\n",
       "       'QBFASSET', 'QBFDEP', 'RESTYPE', 'RESTYPE1', 'SAVR'],\n",
       "      dtype='object')"
      ]
     },
     "execution_count": 4,
     "metadata": {},
     "output_type": "execute_result"
    }
   ],
   "source": [
    "# retrieve data columns\n",
    "data.columns"
   ]
  },
  {
   "cell_type": "code",
   "execution_count": 5,
   "metadata": {},
   "outputs": [
    {
     "name": "stdout",
     "output_type": "stream",
     "text": [
      "Index(['Cert', 'CharterClass', 'Location', 'EstimatedLoss', 'EffectiveDate',\n",
      "       'FinInstitution#', 'ID', 'InstitutionName', 'TotalAssets',\n",
      "       'TotalDeposits', 'Resolution', 'TransactionType', 'InsuranceFund'],\n",
      "      dtype='object')\n"
     ]
    }
   ],
   "source": [
    "# rename the column names to be more descriptive\n",
    "new_columns = ['Cert', 'CharterClass', 'Location', 'EstimatedLoss', 'EffectiveDate', 'FinInstitution#', \n",
    "               'ID', 'InstitutionName', 'TotalAssets', 'TotalDeposits', 'Resolution', 'TransactionType', 'InsuranceFund']\n",
    "data.columns = new_columns\n",
    "print(data.columns)"
   ]
  },
  {
   "cell_type": "code",
   "execution_count": 6,
   "metadata": {},
   "outputs": [
    {
     "name": "stdout",
     "output_type": "stream",
     "text": [
      "<class 'pandas.core.frame.DataFrame'>\n",
      "RangeIndex: 4104 entries, 0 to 4103\n",
      "Data columns (total 13 columns):\n",
      " #   Column           Non-Null Count  Dtype  \n",
      "---  ------           --------------  -----  \n",
      " 0   Cert             3616 non-null   float64\n",
      " 1   CharterClass     4104 non-null   object \n",
      " 2   Location         4104 non-null   object \n",
      " 3   EstimatedLoss    3466 non-null   float64\n",
      " 4   EffectiveDate    4104 non-null   object \n",
      " 5   FinInstitution#  4104 non-null   int64  \n",
      " 6   ID               4104 non-null   int64  \n",
      " 7   InstitutionName  4104 non-null   object \n",
      " 8   TotalAssets      3950 non-null   float64\n",
      " 9   TotalDeposits    4102 non-null   float64\n",
      " 10  Resolution       4104 non-null   object \n",
      " 11  TransactionType  4104 non-null   object \n",
      " 12  InsuranceFund    4104 non-null   object \n",
      "dtypes: float64(4), int64(2), object(7)\n",
      "memory usage: 416.9+ KB\n"
     ]
    }
   ],
   "source": [
    "# check data types and more\n",
    "data.info()"
   ]
  },
  {
   "cell_type": "code",
   "execution_count": 7,
   "metadata": {},
   "outputs": [],
   "source": [
    "# change the data types of a few columns\n",
    "dtypes = {'Cert': 'object', 'EffectiveDate': 'datetime64', 'FinInstitution#': 'object'}\n",
    "data[['Cert', 'EffectiveDate', 'FinInstitution#']] = data[['Cert', 'EffectiveDate', 'FinInstitution#']].astype(dtypes)"
   ]
  },
  {
   "cell_type": "code",
   "execution_count": 8,
   "metadata": {},
   "outputs": [
    {
     "data": {
      "text/html": [
       "<div>\n",
       "<style scoped>\n",
       "    .dataframe tbody tr th:only-of-type {\n",
       "        vertical-align: middle;\n",
       "    }\n",
       "\n",
       "    .dataframe tbody tr th {\n",
       "        vertical-align: top;\n",
       "    }\n",
       "\n",
       "    .dataframe thead th {\n",
       "        text-align: right;\n",
       "    }\n",
       "</style>\n",
       "<table border=\"1\" class=\"dataframe\">\n",
       "  <thead>\n",
       "    <tr style=\"text-align: right;\">\n",
       "      <th></th>\n",
       "      <th>Cert</th>\n",
       "      <th>CharterClass</th>\n",
       "      <th>Location</th>\n",
       "      <th>EstimatedLoss</th>\n",
       "      <th>EffectiveDate</th>\n",
       "      <th>FinInstitution#</th>\n",
       "      <th>ID</th>\n",
       "      <th>InstitutionName</th>\n",
       "      <th>TotalAssets</th>\n",
       "      <th>TotalDeposits</th>\n",
       "      <th>Resolution</th>\n",
       "      <th>TransactionType</th>\n",
       "      <th>InsuranceFund</th>\n",
       "    </tr>\n",
       "  </thead>\n",
       "  <tbody>\n",
       "    <tr>\n",
       "      <th>4099</th>\n",
       "      <td>NaN</td>\n",
       "      <td>NM</td>\n",
       "      <td>LEWISPORT, KY</td>\n",
       "      <td>NaN</td>\n",
       "      <td>1934-08-06</td>\n",
       "      <td>0</td>\n",
       "      <td>137</td>\n",
       "      <td>BANK OF LEWISPORT</td>\n",
       "      <td>81.0</td>\n",
       "      <td>68.0</td>\n",
       "      <td>FAILURE</td>\n",
       "      <td>PO</td>\n",
       "      <td>BIF</td>\n",
       "    </tr>\n",
       "    <tr>\n",
       "      <th>4100</th>\n",
       "      <td>NaN</td>\n",
       "      <td>N</td>\n",
       "      <td>LIMA, MT</td>\n",
       "      <td>NaN</td>\n",
       "      <td>1934-07-18</td>\n",
       "      <td>0</td>\n",
       "      <td>135</td>\n",
       "      <td>FIRST NATIONAL BANK OF LIMA</td>\n",
       "      <td>91.0</td>\n",
       "      <td>42.0</td>\n",
       "      <td>FAILURE</td>\n",
       "      <td>PO</td>\n",
       "      <td>BIF</td>\n",
       "    </tr>\n",
       "    <tr>\n",
       "      <th>4101</th>\n",
       "      <td>NaN</td>\n",
       "      <td>NM</td>\n",
       "      <td>FLORENCE, IN</td>\n",
       "      <td>NaN</td>\n",
       "      <td>1934-07-18</td>\n",
       "      <td>0</td>\n",
       "      <td>136</td>\n",
       "      <td>FLORENCE DEPOSIT BANK</td>\n",
       "      <td>105.0</td>\n",
       "      <td>69.0</td>\n",
       "      <td>FAILURE</td>\n",
       "      <td>PO</td>\n",
       "      <td>BIF</td>\n",
       "    </tr>\n",
       "    <tr>\n",
       "      <th>4102</th>\n",
       "      <td>NaN</td>\n",
       "      <td>NM</td>\n",
       "      <td>EAST PEORIA, IL</td>\n",
       "      <td>NaN</td>\n",
       "      <td>1934-05-28</td>\n",
       "      <td>0</td>\n",
       "      <td>133</td>\n",
       "      <td>FON DU LAC STATE BANK</td>\n",
       "      <td>374.0</td>\n",
       "      <td>238.0</td>\n",
       "      <td>FAILURE</td>\n",
       "      <td>PO</td>\n",
       "      <td>BIF</td>\n",
       "    </tr>\n",
       "    <tr>\n",
       "      <th>4103</th>\n",
       "      <td>NaN</td>\n",
       "      <td>NM</td>\n",
       "      <td>PITTSBURGH, PA</td>\n",
       "      <td>NaN</td>\n",
       "      <td>1934-04-19</td>\n",
       "      <td>0</td>\n",
       "      <td>134</td>\n",
       "      <td>BANK OF AMERICA TRUST CO.</td>\n",
       "      <td>1435.0</td>\n",
       "      <td>1064.0</td>\n",
       "      <td>FAILURE</td>\n",
       "      <td>PO</td>\n",
       "      <td>BIF</td>\n",
       "    </tr>\n",
       "  </tbody>\n",
       "</table>\n",
       "</div>"
      ],
      "text/plain": [
       "     Cert CharterClass         Location  EstimatedLoss EffectiveDate  \\\n",
       "4099  NaN           NM    LEWISPORT, KY            NaN    1934-08-06   \n",
       "4100  NaN            N         LIMA, MT            NaN    1934-07-18   \n",
       "4101  NaN           NM     FLORENCE, IN            NaN    1934-07-18   \n",
       "4102  NaN           NM  EAST PEORIA, IL            NaN    1934-05-28   \n",
       "4103  NaN           NM   PITTSBURGH, PA            NaN    1934-04-19   \n",
       "\n",
       "     FinInstitution#   ID              InstitutionName  TotalAssets  \\\n",
       "4099               0  137            BANK OF LEWISPORT         81.0   \n",
       "4100               0  135  FIRST NATIONAL BANK OF LIMA         91.0   \n",
       "4101               0  136        FLORENCE DEPOSIT BANK        105.0   \n",
       "4102               0  133        FON DU LAC STATE BANK        374.0   \n",
       "4103               0  134    BANK OF AMERICA TRUST CO.       1435.0   \n",
       "\n",
       "      TotalDeposits Resolution TransactionType InsuranceFund  \n",
       "4099           68.0    FAILURE              PO           BIF  \n",
       "4100           42.0    FAILURE              PO           BIF  \n",
       "4101           69.0    FAILURE              PO           BIF  \n",
       "4102          238.0    FAILURE              PO           BIF  \n",
       "4103         1064.0    FAILURE              PO           BIF  "
      ]
     },
     "execution_count": 8,
     "metadata": {},
     "output_type": "execute_result"
    }
   ],
   "source": [
    "data.tail()"
   ]
  },
  {
   "cell_type": "code",
   "execution_count": 9,
   "metadata": {},
   "outputs": [
    {
     "data": {
      "text/plain": [
       "(4104, 13)"
      ]
     },
     "execution_count": 9,
     "metadata": {},
     "output_type": "execute_result"
    }
   ],
   "source": [
    "# rows and columns length\n",
    "data.shape"
   ]
  },
  {
   "cell_type": "code",
   "execution_count": 10,
   "metadata": {},
   "outputs": [
    {
     "data": {
      "text/plain": [
       "0               ALMENA, KS\n",
       "1    FORT WALTON BEACH, FL\n",
       "2        BARBOURSVILLE, WV\n",
       "3              ERICSON, NE\n",
       "4               NEWARK, NJ\n",
       "5               LOUISA, KY\n",
       "6               MAUMEE, OH\n",
       "7               COOPER, TX\n",
       "8              CHICAGO, IL\n",
       "9              ARGONIA, KS\n",
       "Name: Location, dtype: object"
      ]
     },
     "execution_count": 10,
     "metadata": {},
     "output_type": "execute_result"
    }
   ],
   "source": [
    "# location column\n",
    "data['Location'].head(10)"
   ]
  },
  {
   "cell_type": "code",
   "execution_count": 11,
   "metadata": {},
   "outputs": [],
   "source": [
    "# split Location column into Location and State columns\n",
    "data[['Location', 'State']] = data['Location'].str.rsplit(',' , n=1 , expand=True)"
   ]
  },
  {
   "cell_type": "code",
   "execution_count": 12,
   "metadata": {},
   "outputs": [
    {
     "data": {
      "text/html": [
       "<div>\n",
       "<style scoped>\n",
       "    .dataframe tbody tr th:only-of-type {\n",
       "        vertical-align: middle;\n",
       "    }\n",
       "\n",
       "    .dataframe tbody tr th {\n",
       "        vertical-align: top;\n",
       "    }\n",
       "\n",
       "    .dataframe thead th {\n",
       "        text-align: right;\n",
       "    }\n",
       "</style>\n",
       "<table border=\"1\" class=\"dataframe\">\n",
       "  <thead>\n",
       "    <tr style=\"text-align: right;\">\n",
       "      <th></th>\n",
       "      <th>Cert</th>\n",
       "      <th>CharterClass</th>\n",
       "      <th>Location</th>\n",
       "      <th>EstimatedLoss</th>\n",
       "      <th>EffectiveDate</th>\n",
       "      <th>FinInstitution#</th>\n",
       "      <th>ID</th>\n",
       "      <th>InstitutionName</th>\n",
       "      <th>TotalAssets</th>\n",
       "      <th>TotalDeposits</th>\n",
       "      <th>Resolution</th>\n",
       "      <th>TransactionType</th>\n",
       "      <th>InsuranceFund</th>\n",
       "      <th>State</th>\n",
       "    </tr>\n",
       "  </thead>\n",
       "  <tbody>\n",
       "    <tr>\n",
       "      <th>0</th>\n",
       "      <td>15426</td>\n",
       "      <td>NM</td>\n",
       "      <td>ALMENA</td>\n",
       "      <td>16806.0</td>\n",
       "      <td>2020-10-23</td>\n",
       "      <td>10538</td>\n",
       "      <td>4104</td>\n",
       "      <td>ALMENA STATE BANK</td>\n",
       "      <td>65733.0</td>\n",
       "      <td>64941.0</td>\n",
       "      <td>FAILURE</td>\n",
       "      <td>PA</td>\n",
       "      <td>DIF</td>\n",
       "      <td>KS</td>\n",
       "    </tr>\n",
       "    <tr>\n",
       "      <th>1</th>\n",
       "      <td>16748</td>\n",
       "      <td>NM</td>\n",
       "      <td>FORT WALTON BEACH</td>\n",
       "      <td>7247.0</td>\n",
       "      <td>2020-10-16</td>\n",
       "      <td>10537</td>\n",
       "      <td>4103</td>\n",
       "      <td>FIRST CITY BANK OF FLORIDA</td>\n",
       "      <td>136566.0</td>\n",
       "      <td>133936.0</td>\n",
       "      <td>FAILURE</td>\n",
       "      <td>PA</td>\n",
       "      <td>DIF</td>\n",
       "      <td>FL</td>\n",
       "    </tr>\n",
       "    <tr>\n",
       "      <th>2</th>\n",
       "      <td>14361</td>\n",
       "      <td>NM</td>\n",
       "      <td>BARBOURSVILLE</td>\n",
       "      <td>45913.0</td>\n",
       "      <td>2020-04-03</td>\n",
       "      <td>10536</td>\n",
       "      <td>4102</td>\n",
       "      <td>THE FIRST STATE BANK</td>\n",
       "      <td>151808.0</td>\n",
       "      <td>143102.0</td>\n",
       "      <td>FAILURE</td>\n",
       "      <td>PA</td>\n",
       "      <td>DIF</td>\n",
       "      <td>WV</td>\n",
       "    </tr>\n",
       "    <tr>\n",
       "      <th>3</th>\n",
       "      <td>18265</td>\n",
       "      <td>NM</td>\n",
       "      <td>ERICSON</td>\n",
       "      <td>25293.0</td>\n",
       "      <td>2020-02-14</td>\n",
       "      <td>10535</td>\n",
       "      <td>4101</td>\n",
       "      <td>ERICSON STATE BANK</td>\n",
       "      <td>100879.0</td>\n",
       "      <td>95159.0</td>\n",
       "      <td>FAILURE</td>\n",
       "      <td>PA</td>\n",
       "      <td>DIF</td>\n",
       "      <td>NE</td>\n",
       "    </tr>\n",
       "  </tbody>\n",
       "</table>\n",
       "</div>"
      ],
      "text/plain": [
       "    Cert CharterClass           Location  EstimatedLoss EffectiveDate  \\\n",
       "0  15426           NM             ALMENA        16806.0    2020-10-23   \n",
       "1  16748           NM  FORT WALTON BEACH         7247.0    2020-10-16   \n",
       "2  14361           NM      BARBOURSVILLE        45913.0    2020-04-03   \n",
       "3  18265           NM            ERICSON        25293.0    2020-02-14   \n",
       "\n",
       "  FinInstitution#    ID             InstitutionName  TotalAssets  \\\n",
       "0           10538  4104           ALMENA STATE BANK      65733.0   \n",
       "1           10537  4103  FIRST CITY BANK OF FLORIDA     136566.0   \n",
       "2           10536  4102        THE FIRST STATE BANK     151808.0   \n",
       "3           10535  4101          ERICSON STATE BANK     100879.0   \n",
       "\n",
       "   TotalDeposits Resolution TransactionType InsuranceFund State  \n",
       "0        64941.0    FAILURE              PA           DIF    KS  \n",
       "1       133936.0    FAILURE              PA           DIF    FL  \n",
       "2       143102.0    FAILURE              PA           DIF    WV  \n",
       "3        95159.0    FAILURE              PA           DIF    NE  "
      ]
     },
     "execution_count": 12,
     "metadata": {},
     "output_type": "execute_result"
    }
   ],
   "source": [
    "data.head(4)"
   ]
  },
  {
   "cell_type": "code",
   "execution_count": 13,
   "metadata": {
    "scrolled": true
   },
   "outputs": [
    {
     "data": {
      "text/plain": [
       "FAILURE       3525\n",
       "ASSISTANCE     579\n",
       "Name: Resolution, dtype: int64"
      ]
     },
     "execution_count": 13,
     "metadata": {},
     "output_type": "execute_result"
    }
   ],
   "source": [
    "data['Resolution'].value_counts()"
   ]
  },
  {
   "cell_type": "markdown",
   "metadata": {},
   "source": [
    "#### `"
   ]
  },
  {
   "cell_type": "markdown",
   "metadata": {},
   "source": [
    "### Exploratory Data Analysis"
   ]
  },
  {
   "cell_type": "markdown",
   "metadata": {},
   "source": [
    "#### ratio of banks resolution (failure to assistance) "
   ]
  },
  {
   "cell_type": "code",
   "execution_count": 14,
   "metadata": {},
   "outputs": [
    {
     "name": "stdout",
     "output_type": "stream",
     "text": [
      "The ratio of bank's ASSISTANCE to FAILURE: 0.2\n"
     ]
    }
   ],
   "source": [
    "assistance_to_failure_ratio = len(data[data['Resolution']== 'ASSISTANCE'])/len(data[data['Resolution']== 'FAILURE'])\n",
    "\n",
    "print(\"The ratio of bank's ASSISTANCE to FAILURE:\", round(assistance_to_failure_ratio,1))"
   ]
  },
  {
   "cell_type": "markdown",
   "metadata": {},
   "source": [
    "### `"
   ]
  },
  {
   "cell_type": "markdown",
   "metadata": {},
   "source": [
    "#### earliest and most recent date of bank failure"
   ]
  },
  {
   "cell_type": "code",
   "execution_count": 15,
   "metadata": {},
   "outputs": [
    {
     "name": "stdout",
     "output_type": "stream",
     "text": [
      "The earliest date of bank failure:  1934-04-19\n",
      "\n",
      "\n",
      "Bank record: \n"
     ]
    },
    {
     "data": {
      "text/html": [
       "<div>\n",
       "<style scoped>\n",
       "    .dataframe tbody tr th:only-of-type {\n",
       "        vertical-align: middle;\n",
       "    }\n",
       "\n",
       "    .dataframe tbody tr th {\n",
       "        vertical-align: top;\n",
       "    }\n",
       "\n",
       "    .dataframe thead th {\n",
       "        text-align: right;\n",
       "    }\n",
       "</style>\n",
       "<table border=\"1\" class=\"dataframe\">\n",
       "  <thead>\n",
       "    <tr style=\"text-align: right;\">\n",
       "      <th></th>\n",
       "      <th>Cert</th>\n",
       "      <th>CharterClass</th>\n",
       "      <th>Location</th>\n",
       "      <th>EstimatedLoss</th>\n",
       "      <th>EffectiveDate</th>\n",
       "      <th>FinInstitution#</th>\n",
       "      <th>ID</th>\n",
       "      <th>InstitutionName</th>\n",
       "      <th>TotalAssets</th>\n",
       "      <th>TotalDeposits</th>\n",
       "      <th>Resolution</th>\n",
       "      <th>TransactionType</th>\n",
       "      <th>InsuranceFund</th>\n",
       "      <th>State</th>\n",
       "    </tr>\n",
       "  </thead>\n",
       "  <tbody>\n",
       "    <tr>\n",
       "      <th>4103</th>\n",
       "      <td>NaN</td>\n",
       "      <td>NM</td>\n",
       "      <td>PITTSBURGH</td>\n",
       "      <td>NaN</td>\n",
       "      <td>1934-04-19</td>\n",
       "      <td>0</td>\n",
       "      <td>134</td>\n",
       "      <td>BANK OF AMERICA TRUST CO.</td>\n",
       "      <td>1435.0</td>\n",
       "      <td>1064.0</td>\n",
       "      <td>FAILURE</td>\n",
       "      <td>PO</td>\n",
       "      <td>BIF</td>\n",
       "      <td>PA</td>\n",
       "    </tr>\n",
       "  </tbody>\n",
       "</table>\n",
       "</div>"
      ],
      "text/plain": [
       "     Cert CharterClass    Location  EstimatedLoss EffectiveDate  \\\n",
       "4103  NaN           NM  PITTSBURGH            NaN    1934-04-19   \n",
       "\n",
       "     FinInstitution#   ID            InstitutionName  TotalAssets  \\\n",
       "4103               0  134  BANK OF AMERICA TRUST CO.       1435.0   \n",
       "\n",
       "      TotalDeposits Resolution TransactionType InsuranceFund State  \n",
       "4103         1064.0    FAILURE              PO           BIF    PA  "
      ]
     },
     "execution_count": 15,
     "metadata": {},
     "output_type": "execute_result"
    }
   ],
   "source": [
    "print('The earliest date of bank failure: ', data[data['Resolution'] == 'FAILURE']['EffectiveDate'].min().date())\n",
    "print('\\n')\n",
    "print('Bank record: ')\n",
    "data[(data['Resolution'] == 'FAILURE') & (data['EffectiveDate'] == data['EffectiveDate'].min())]"
   ]
  },
  {
   "cell_type": "markdown",
   "metadata": {},
   "source": [
    "### ."
   ]
  },
  {
   "cell_type": "code",
   "execution_count": 16,
   "metadata": {},
   "outputs": [
    {
     "name": "stdout",
     "output_type": "stream",
     "text": [
      "The most recent date of bank failure preceding Silicon Valley Bank's:  2020-10-23\n",
      "\n",
      "\n",
      "Bank record: \n"
     ]
    },
    {
     "data": {
      "text/html": [
       "<div>\n",
       "<style scoped>\n",
       "    .dataframe tbody tr th:only-of-type {\n",
       "        vertical-align: middle;\n",
       "    }\n",
       "\n",
       "    .dataframe tbody tr th {\n",
       "        vertical-align: top;\n",
       "    }\n",
       "\n",
       "    .dataframe thead th {\n",
       "        text-align: right;\n",
       "    }\n",
       "</style>\n",
       "<table border=\"1\" class=\"dataframe\">\n",
       "  <thead>\n",
       "    <tr style=\"text-align: right;\">\n",
       "      <th></th>\n",
       "      <th>Cert</th>\n",
       "      <th>CharterClass</th>\n",
       "      <th>Location</th>\n",
       "      <th>EstimatedLoss</th>\n",
       "      <th>EffectiveDate</th>\n",
       "      <th>FinInstitution#</th>\n",
       "      <th>ID</th>\n",
       "      <th>InstitutionName</th>\n",
       "      <th>TotalAssets</th>\n",
       "      <th>TotalDeposits</th>\n",
       "      <th>Resolution</th>\n",
       "      <th>TransactionType</th>\n",
       "      <th>InsuranceFund</th>\n",
       "      <th>State</th>\n",
       "    </tr>\n",
       "  </thead>\n",
       "  <tbody>\n",
       "    <tr>\n",
       "      <th>0</th>\n",
       "      <td>15426</td>\n",
       "      <td>NM</td>\n",
       "      <td>ALMENA</td>\n",
       "      <td>16806.0</td>\n",
       "      <td>2020-10-23</td>\n",
       "      <td>10538</td>\n",
       "      <td>4104</td>\n",
       "      <td>ALMENA STATE BANK</td>\n",
       "      <td>65733.0</td>\n",
       "      <td>64941.0</td>\n",
       "      <td>FAILURE</td>\n",
       "      <td>PA</td>\n",
       "      <td>DIF</td>\n",
       "      <td>KS</td>\n",
       "    </tr>\n",
       "  </tbody>\n",
       "</table>\n",
       "</div>"
      ],
      "text/plain": [
       "    Cert CharterClass Location  EstimatedLoss EffectiveDate FinInstitution#  \\\n",
       "0  15426           NM   ALMENA        16806.0    2020-10-23           10538   \n",
       "\n",
       "     ID    InstitutionName  TotalAssets  TotalDeposits Resolution  \\\n",
       "0  4104  ALMENA STATE BANK      65733.0        64941.0    FAILURE   \n",
       "\n",
       "  TransactionType InsuranceFund State  \n",
       "0              PA           DIF    KS  "
      ]
     },
     "execution_count": 16,
     "metadata": {},
     "output_type": "execute_result"
    }
   ],
   "source": [
    "print(\"The most recent date of bank failure preceding Silicon Valley Bank's: \",\n",
    "      data[data['Resolution'] == 'FAILURE']['EffectiveDate'].max().date())\n",
    "print('\\n')\n",
    "\n",
    "print('Bank record: ')\n",
    "data[(data['Resolution'] == 'FAILURE') & (data['EffectiveDate'] == data['EffectiveDate'].max())]"
   ]
  },
  {
   "cell_type": "markdown",
   "metadata": {},
   "source": [
    "#### ."
   ]
  },
  {
   "cell_type": "markdown",
   "metadata": {},
   "source": [
    "#### year and decade with the most bank failures"
   ]
  },
  {
   "cell_type": "code",
   "execution_count": 17,
   "metadata": {},
   "outputs": [
    {
     "name": "stdout",
     "output_type": "stream",
     "text": [
      "Year with most bank failures: 1989\n",
      "Total count of bank failures in 1989 : 531\n"
     ]
    }
   ],
   "source": [
    "count_of_year = data[data['Resolution']=='FAILURE'].groupby(data['EffectiveDate'].dt.year)['Resolution'].count()\n",
    "max_count_year = count_of_year.sort_values(ascending=False).idxmax()\n",
    "max_count = count_of_year.loc[max_count_year]\n",
    "\n",
    "print('Year with most bank failures:', max_count_year)\n",
    "print('Total count of bank failures in', max_count_year, ':', max_count)"
   ]
  },
  {
   "cell_type": "code",
   "execution_count": 18,
   "metadata": {
    "scrolled": true
   },
   "outputs": [
    {
     "name": "stdout",
     "output_type": "stream",
     "text": [
      "The decade with most bank failures: 1980 's\n",
      "Total bank failures in the decade: 1467\n"
     ]
    }
   ],
   "source": [
    "decade_count = data[data['Resolution']=='FAILURE'].groupby((data['EffectiveDate'].dt.year // 10)* 10) ['Resolution'].count()\n",
    "max_decade_count = decade_count.sort_values(ascending=False).idxmax()\n",
    "\n",
    "sum_of_max_decade_count = decade_count.loc[max_decade_count]\n",
    "\n",
    "print('The decade with most bank failures:', max_decade_count,\"'s\")\n",
    "print('Total bank failures in the decade:', sum_of_max_decade_count)"
   ]
  },
  {
   "cell_type": "markdown",
   "metadata": {},
   "source": [
    "### `"
   ]
  },
  {
   "cell_type": "markdown",
   "metadata": {},
   "source": [
    "#### 10 states with highest concentrations of bank failures over the years"
   ]
  },
  {
   "cell_type": "code",
   "execution_count": 19,
   "metadata": {},
   "outputs": [
    {
     "name": "stdout",
     "output_type": "stream",
     "text": [
      "First 10 States with highest bank failures: \n",
      " State\n",
      " TX    737\n",
      " CA    238\n",
      " IL    183\n",
      " FL    179\n",
      " OK    170\n",
      " LA    142\n",
      " GA    128\n",
      " MO    122\n",
      " KS    112\n",
      " CO     98\n",
      "Name: Resolution, dtype: int64\n"
     ]
    }
   ],
   "source": [
    "# Ranks of state with most bank failures\n",
    "highest_10_states = data[data['Resolution'] == 'FAILURE'].groupby('State')['Resolution'].count()\n",
    "rank_of_highest_10_states = highest_10_states.sort_values().nlargest(n=10)\n",
    "\n",
    "print('First 10 States with highest bank failures: \\n', rank_of_highest_10_states)"
   ]
  },
  {
   "cell_type": "markdown",
   "metadata": {},
   "source": [
    "### `"
   ]
  },
  {
   "cell_type": "markdown",
   "metadata": {},
   "source": [
    "#### The maximum Estimated Loss"
   ]
  },
  {
   "cell_type": "code",
   "execution_count": 20,
   "metadata": {},
   "outputs": [
    {
     "name": "stdout",
     "output_type": "stream",
     "text": [
      "Estimated Loss recorded: 12040084.0\n"
     ]
    },
    {
     "data": {
      "text/html": [
       "<div>\n",
       "<style scoped>\n",
       "    .dataframe tbody tr th:only-of-type {\n",
       "        vertical-align: middle;\n",
       "    }\n",
       "\n",
       "    .dataframe tbody tr th {\n",
       "        vertical-align: top;\n",
       "    }\n",
       "\n",
       "    .dataframe thead th {\n",
       "        text-align: right;\n",
       "    }\n",
       "</style>\n",
       "<table border=\"1\" class=\"dataframe\">\n",
       "  <thead>\n",
       "    <tr style=\"text-align: right;\">\n",
       "      <th></th>\n",
       "      <th>Cert</th>\n",
       "      <th>CharterClass</th>\n",
       "      <th>Location</th>\n",
       "      <th>EstimatedLoss</th>\n",
       "      <th>EffectiveDate</th>\n",
       "      <th>FinInstitution#</th>\n",
       "      <th>ID</th>\n",
       "      <th>InstitutionName</th>\n",
       "      <th>TotalAssets</th>\n",
       "      <th>TotalDeposits</th>\n",
       "      <th>Resolution</th>\n",
       "      <th>TransactionType</th>\n",
       "      <th>InsuranceFund</th>\n",
       "      <th>State</th>\n",
       "    </tr>\n",
       "  </thead>\n",
       "  <tbody>\n",
       "    <tr>\n",
       "      <th>544</th>\n",
       "      <td>29730</td>\n",
       "      <td>SL</td>\n",
       "      <td>PASADENA</td>\n",
       "      <td>12040084.0</td>\n",
       "      <td>2008-07-11</td>\n",
       "      <td>10007</td>\n",
       "      <td>3560</td>\n",
       "      <td>INDYMAC BANK F.S.B</td>\n",
       "      <td>30698512.0</td>\n",
       "      <td>18941727.0</td>\n",
       "      <td>FAILURE</td>\n",
       "      <td>PI</td>\n",
       "      <td>DIF</td>\n",
       "      <td>CA</td>\n",
       "    </tr>\n",
       "  </tbody>\n",
       "</table>\n",
       "</div>"
      ],
      "text/plain": [
       "      Cert CharterClass  Location  EstimatedLoss EffectiveDate  \\\n",
       "544  29730           SL  PASADENA     12040084.0    2008-07-11   \n",
       "\n",
       "    FinInstitution#    ID     InstitutionName  TotalAssets  TotalDeposits  \\\n",
       "544           10007  3560  INDYMAC BANK F.S.B   30698512.0     18941727.0   \n",
       "\n",
       "    Resolution TransactionType InsuranceFund State  \n",
       "544    FAILURE              PI           DIF    CA  "
      ]
     },
     "execution_count": 20,
     "metadata": {},
     "output_type": "execute_result"
    }
   ],
   "source": [
    "print('Estimated Loss recorded:', data['EstimatedLoss'].max())\n",
    "data[data['EstimatedLoss'] == data['EstimatedLoss'].max()]"
   ]
  },
  {
   "cell_type": "code",
   "execution_count": 21,
   "metadata": {},
   "outputs": [
    {
     "name": "stdout",
     "output_type": "stream",
     "text": [
      "Total # of banks with unknown/unrecorded Estimated Loss: 638\n"
     ]
    }
   ],
   "source": [
    "# Some banks Estimated Loss figures were not supplied\n",
    "print('Total # of banks with unknown/unrecorded Estimated Loss:', data['EstimatedLoss'].isna().sum())"
   ]
  },
  {
   "cell_type": "markdown",
   "metadata": {},
   "source": [
    "#### `"
   ]
  },
  {
   "cell_type": "markdown",
   "metadata": {},
   "source": [
    "#### Banks: Did some banks appear more than once (using combination of InstitutionName + Location + State)?"
   ]
  },
  {
   "cell_type": "code",
   "execution_count": 22,
   "metadata": {},
   "outputs": [
    {
     "data": {
      "text/html": [
       "<div>\n",
       "<style scoped>\n",
       "    .dataframe tbody tr th:only-of-type {\n",
       "        vertical-align: middle;\n",
       "    }\n",
       "\n",
       "    .dataframe tbody tr th {\n",
       "        vertical-align: top;\n",
       "    }\n",
       "\n",
       "    .dataframe thead th {\n",
       "        text-align: right;\n",
       "    }\n",
       "</style>\n",
       "<table border=\"1\" class=\"dataframe\">\n",
       "  <thead>\n",
       "    <tr style=\"text-align: right;\">\n",
       "      <th></th>\n",
       "      <th>InstitutionName</th>\n",
       "      <th>Location</th>\n",
       "      <th>State</th>\n",
       "    </tr>\n",
       "  </thead>\n",
       "  <tbody>\n",
       "    <tr>\n",
       "      <th>336</th>\n",
       "      <td>AMERICAN NATIONAL BANK</td>\n",
       "      <td>PARMA</td>\n",
       "      <td>OH</td>\n",
       "    </tr>\n",
       "    <tr>\n",
       "      <th>2477</th>\n",
       "      <td>AMERICAN NATIONAL BANK</td>\n",
       "      <td>PARMA</td>\n",
       "      <td>OH</td>\n",
       "    </tr>\n",
       "    <tr>\n",
       "      <th>2966</th>\n",
       "      <td>BOHEMIAN S&amp;LA</td>\n",
       "      <td>ST. LOUIS</td>\n",
       "      <td>MO</td>\n",
       "    </tr>\n",
       "    <tr>\n",
       "      <th>3268</th>\n",
       "      <td>BOHEMIAN S&amp;LA</td>\n",
       "      <td>ST. LOUIS</td>\n",
       "      <td>MO</td>\n",
       "    </tr>\n",
       "    <tr>\n",
       "      <th>1066</th>\n",
       "      <td>CROSSROADS BANK</td>\n",
       "      <td>VICTORIA</td>\n",
       "      <td>TX</td>\n",
       "    </tr>\n",
       "    <tr>\n",
       "      <th>2540</th>\n",
       "      <td>CROSSROADS BANK</td>\n",
       "      <td>VICTORIA</td>\n",
       "      <td>TX</td>\n",
       "    </tr>\n",
       "    <tr>\n",
       "      <th>715</th>\n",
       "      <td>FIRST CITY, TEXAS - ARANSAS PASS</td>\n",
       "      <td>ARANSAS PASS</td>\n",
       "      <td>TX</td>\n",
       "    </tr>\n",
       "    <tr>\n",
       "      <th>2407</th>\n",
       "      <td>FIRST CITY, TEXAS - ARANSAS PASS</td>\n",
       "      <td>ARANSAS PASS</td>\n",
       "      <td>TX</td>\n",
       "    </tr>\n",
       "    <tr>\n",
       "      <th>709</th>\n",
       "      <td>FIRST CITY, TEXAS - HOUSTON, NA</td>\n",
       "      <td>HOUSTON</td>\n",
       "      <td>TX</td>\n",
       "    </tr>\n",
       "    <tr>\n",
       "      <th>2388</th>\n",
       "      <td>FIRST CITY, TEXAS - HOUSTON, NA</td>\n",
       "      <td>HOUSTON</td>\n",
       "      <td>TX</td>\n",
       "    </tr>\n",
       "    <tr>\n",
       "      <th>711</th>\n",
       "      <td>FIRST CITY, TEXAS - LAKE JACKSON</td>\n",
       "      <td>LAKE JACKSON</td>\n",
       "      <td>TX</td>\n",
       "    </tr>\n",
       "    <tr>\n",
       "      <th>2390</th>\n",
       "      <td>FIRST CITY, TEXAS - LAKE JACKSON</td>\n",
       "      <td>LAKE JACKSON</td>\n",
       "      <td>TX</td>\n",
       "    </tr>\n",
       "    <tr>\n",
       "      <th>703</th>\n",
       "      <td>FIRST CITY, TEXAS - MADISONVILLE</td>\n",
       "      <td>MADISONVILLE</td>\n",
       "      <td>TX</td>\n",
       "    </tr>\n",
       "    <tr>\n",
       "      <th>2379</th>\n",
       "      <td>FIRST CITY, TEXAS - MADISONVILLE</td>\n",
       "      <td>MADISONVILLE</td>\n",
       "      <td>TX</td>\n",
       "    </tr>\n",
       "    <tr>\n",
       "      <th>717</th>\n",
       "      <td>FIRST CITY, TEXAS - SAN ANTONIO</td>\n",
       "      <td>SAN ANTONIO</td>\n",
       "      <td>TX</td>\n",
       "    </tr>\n",
       "    <tr>\n",
       "      <th>2430</th>\n",
       "      <td>FIRST CITY, TEXAS - SAN ANTONIO</td>\n",
       "      <td>SAN ANTONIO</td>\n",
       "      <td>TX</td>\n",
       "    </tr>\n",
       "    <tr>\n",
       "      <th>708</th>\n",
       "      <td>FIRST CITY, TEXAS - SOUR LAKE</td>\n",
       "      <td>SOUR LAKE</td>\n",
       "      <td>TX</td>\n",
       "    </tr>\n",
       "    <tr>\n",
       "      <th>2387</th>\n",
       "      <td>FIRST CITY, TEXAS - SOUR LAKE</td>\n",
       "      <td>SOUR LAKE</td>\n",
       "      <td>TX</td>\n",
       "    </tr>\n",
       "    <tr>\n",
       "      <th>3316</th>\n",
       "      <td>FIRST DAKOTA HOME S&amp;LA</td>\n",
       "      <td>PIERRE</td>\n",
       "      <td>SD</td>\n",
       "    </tr>\n",
       "    <tr>\n",
       "      <th>3397</th>\n",
       "      <td>FIRST DAKOTA HOME S&amp;LA</td>\n",
       "      <td>PIERRE</td>\n",
       "      <td>SD</td>\n",
       "    </tr>\n",
       "    <tr>\n",
       "      <th>2510</th>\n",
       "      <td>FIRST FINANCIAL BANK, FSB</td>\n",
       "      <td>NEW ORLEANS</td>\n",
       "      <td>LA</td>\n",
       "    </tr>\n",
       "    <tr>\n",
       "      <th>3113</th>\n",
       "      <td>FIRST FINANCIAL BANK, FSB</td>\n",
       "      <td>NEW ORLEANS</td>\n",
       "      <td>LA</td>\n",
       "    </tr>\n",
       "    <tr>\n",
       "      <th>3315</th>\n",
       "      <td>FIRST FS&amp;LA OF SIOUX FALLS</td>\n",
       "      <td>SIOUX FALLS</td>\n",
       "      <td>SD</td>\n",
       "    </tr>\n",
       "    <tr>\n",
       "      <th>3396</th>\n",
       "      <td>FIRST FS&amp;LA OF SIOUX FALLS</td>\n",
       "      <td>SIOUX FALLS</td>\n",
       "      <td>SD</td>\n",
       "    </tr>\n",
       "    <tr>\n",
       "      <th>3543</th>\n",
       "      <td>LIVINGSTON STATE BANK</td>\n",
       "      <td>LIVINGSTON</td>\n",
       "      <td>NJ</td>\n",
       "    </tr>\n",
       "    <tr>\n",
       "      <th>4071</th>\n",
       "      <td>LIVINGSTON STATE BANK</td>\n",
       "      <td>LIVINGSTON</td>\n",
       "      <td>NJ</td>\n",
       "    </tr>\n",
       "    <tr>\n",
       "      <th>1880</th>\n",
       "      <td>SECURITY SAVINGS ASSOCIATION</td>\n",
       "      <td>TEXARKANA</td>\n",
       "      <td>TX</td>\n",
       "    </tr>\n",
       "    <tr>\n",
       "      <th>2657</th>\n",
       "      <td>SECURITY SAVINGS ASSOCIATION</td>\n",
       "      <td>TEXARKANA</td>\n",
       "      <td>TX</td>\n",
       "    </tr>\n",
       "    <tr>\n",
       "      <th>2588</th>\n",
       "      <td>THE TALMAGE STATE BANK</td>\n",
       "      <td>TALMAGE</td>\n",
       "      <td>KS</td>\n",
       "    </tr>\n",
       "    <tr>\n",
       "      <th>2922</th>\n",
       "      <td>THE TALMAGE STATE BANK</td>\n",
       "      <td>TALMAGE</td>\n",
       "      <td>KS</td>\n",
       "    </tr>\n",
       "  </tbody>\n",
       "</table>\n",
       "</div>"
      ],
      "text/plain": [
       "                       InstitutionName      Location State\n",
       "336             AMERICAN NATIONAL BANK         PARMA    OH\n",
       "2477            AMERICAN NATIONAL BANK         PARMA    OH\n",
       "2966                     BOHEMIAN S&LA     ST. LOUIS    MO\n",
       "3268                     BOHEMIAN S&LA     ST. LOUIS    MO\n",
       "1066                   CROSSROADS BANK      VICTORIA    TX\n",
       "2540                   CROSSROADS BANK      VICTORIA    TX\n",
       "715   FIRST CITY, TEXAS - ARANSAS PASS  ARANSAS PASS    TX\n",
       "2407  FIRST CITY, TEXAS - ARANSAS PASS  ARANSAS PASS    TX\n",
       "709    FIRST CITY, TEXAS - HOUSTON, NA       HOUSTON    TX\n",
       "2388   FIRST CITY, TEXAS - HOUSTON, NA       HOUSTON    TX\n",
       "711   FIRST CITY, TEXAS - LAKE JACKSON  LAKE JACKSON    TX\n",
       "2390  FIRST CITY, TEXAS - LAKE JACKSON  LAKE JACKSON    TX\n",
       "703   FIRST CITY, TEXAS - MADISONVILLE  MADISONVILLE    TX\n",
       "2379  FIRST CITY, TEXAS - MADISONVILLE  MADISONVILLE    TX\n",
       "717    FIRST CITY, TEXAS - SAN ANTONIO   SAN ANTONIO    TX\n",
       "2430   FIRST CITY, TEXAS - SAN ANTONIO   SAN ANTONIO    TX\n",
       "708      FIRST CITY, TEXAS - SOUR LAKE     SOUR LAKE    TX\n",
       "2387     FIRST CITY, TEXAS - SOUR LAKE     SOUR LAKE    TX\n",
       "3316            FIRST DAKOTA HOME S&LA        PIERRE    SD\n",
       "3397            FIRST DAKOTA HOME S&LA        PIERRE    SD\n",
       "2510         FIRST FINANCIAL BANK, FSB   NEW ORLEANS    LA\n",
       "3113         FIRST FINANCIAL BANK, FSB   NEW ORLEANS    LA\n",
       "3315        FIRST FS&LA OF SIOUX FALLS   SIOUX FALLS    SD\n",
       "3396        FIRST FS&LA OF SIOUX FALLS   SIOUX FALLS    SD\n",
       "3543             LIVINGSTON STATE BANK    LIVINGSTON    NJ\n",
       "4071             LIVINGSTON STATE BANK    LIVINGSTON    NJ\n",
       "1880      SECURITY SAVINGS ASSOCIATION     TEXARKANA    TX\n",
       "2657      SECURITY SAVINGS ASSOCIATION     TEXARKANA    TX\n",
       "2588            THE TALMAGE STATE BANK       TALMAGE    KS\n",
       "2922            THE TALMAGE STATE BANK       TALMAGE    KS"
      ]
     },
     "execution_count": 22,
     "metadata": {},
     "output_type": "execute_result"
    }
   ],
   "source": [
    "# select the columns of interest\n",
    "banks = data[['InstitutionName', 'Location', 'State']]\n",
    "\n",
    "# find duplicated rows based on both columns\n",
    "duplicated_banks = banks[banks.duplicated(keep=False)]\n",
    "\n",
    "# sort by bank name and state\n",
    "duplicated_banks = duplicated_banks.sort_values(by=['InstitutionName', 'Location', 'State'])\n",
    "\n",
    "duplicated_banks"
   ]
  },
  {
   "cell_type": "code",
   "execution_count": 23,
   "metadata": {},
   "outputs": [],
   "source": [
    "## the term \"duplicated' here is a misnomer; it does not mean duplicated records, rather but banks which appear more than -\n",
    "## once as a result of being \"assisted\" and then \"failing\", later..."
   ]
  },
  {
   "cell_type": "code",
   "execution_count": 24,
   "metadata": {},
   "outputs": [
    {
     "data": {
      "text/html": [
       "<div>\n",
       "<style scoped>\n",
       "    .dataframe tbody tr th:only-of-type {\n",
       "        vertical-align: middle;\n",
       "    }\n",
       "\n",
       "    .dataframe tbody tr th {\n",
       "        vertical-align: top;\n",
       "    }\n",
       "\n",
       "    .dataframe thead th {\n",
       "        text-align: right;\n",
       "    }\n",
       "</style>\n",
       "<table border=\"1\" class=\"dataframe\">\n",
       "  <thead>\n",
       "    <tr style=\"text-align: right;\">\n",
       "      <th></th>\n",
       "      <th>InstitutionName</th>\n",
       "      <th>Location</th>\n",
       "      <th>State</th>\n",
       "      <th>Resolution</th>\n",
       "      <th>EffectiveDate</th>\n",
       "    </tr>\n",
       "  </thead>\n",
       "  <tbody>\n",
       "    <tr>\n",
       "      <th>0</th>\n",
       "      <td>AMERICAN NATIONAL BANK</td>\n",
       "      <td>PARMA</td>\n",
       "      <td>OH</td>\n",
       "      <td>ASSISTANCE</td>\n",
       "      <td>1988-02-12</td>\n",
       "    </tr>\n",
       "    <tr>\n",
       "      <th>1</th>\n",
       "      <td>AMERICAN NATIONAL BANK</td>\n",
       "      <td>PARMA</td>\n",
       "      <td>OH</td>\n",
       "      <td>FAILURE</td>\n",
       "      <td>2010-03-19</td>\n",
       "    </tr>\n",
       "    <tr>\n",
       "      <th>2</th>\n",
       "      <td>BOHEMIAN S&amp;LA</td>\n",
       "      <td>ST. LOUIS</td>\n",
       "      <td>MO</td>\n",
       "      <td>ASSISTANCE</td>\n",
       "      <td>1983-12-01</td>\n",
       "    </tr>\n",
       "    <tr>\n",
       "      <th>3</th>\n",
       "      <td>BOHEMIAN S&amp;LA</td>\n",
       "      <td>ST. LOUIS</td>\n",
       "      <td>MO</td>\n",
       "      <td>FAILURE</td>\n",
       "      <td>1986-01-30</td>\n",
       "    </tr>\n",
       "    <tr>\n",
       "      <th>4</th>\n",
       "      <td>CROSSROADS BANK</td>\n",
       "      <td>VICTORIA</td>\n",
       "      <td>TX</td>\n",
       "      <td>ASSISTANCE</td>\n",
       "      <td>1987-12-03</td>\n",
       "    </tr>\n",
       "    <tr>\n",
       "      <th>5</th>\n",
       "      <td>CROSSROADS BANK</td>\n",
       "      <td>VICTORIA</td>\n",
       "      <td>TX</td>\n",
       "      <td>FAILURE</td>\n",
       "      <td>1991-03-14</td>\n",
       "    </tr>\n",
       "    <tr>\n",
       "      <th>6</th>\n",
       "      <td>FIRST CITY, TEXAS - ARANSAS PASS</td>\n",
       "      <td>ARANSAS PASS</td>\n",
       "      <td>TX</td>\n",
       "      <td>ASSISTANCE</td>\n",
       "      <td>1988-04-20</td>\n",
       "    </tr>\n",
       "    <tr>\n",
       "      <th>7</th>\n",
       "      <td>FIRST CITY, TEXAS - ARANSAS PASS</td>\n",
       "      <td>ARANSAS PASS</td>\n",
       "      <td>TX</td>\n",
       "      <td>FAILURE</td>\n",
       "      <td>1992-10-30</td>\n",
       "    </tr>\n",
       "    <tr>\n",
       "      <th>8</th>\n",
       "      <td>FIRST CITY, TEXAS - HOUSTON, NA</td>\n",
       "      <td>HOUSTON</td>\n",
       "      <td>TX</td>\n",
       "      <td>ASSISTANCE</td>\n",
       "      <td>1988-04-20</td>\n",
       "    </tr>\n",
       "    <tr>\n",
       "      <th>9</th>\n",
       "      <td>FIRST CITY, TEXAS - HOUSTON, NA</td>\n",
       "      <td>HOUSTON</td>\n",
       "      <td>TX</td>\n",
       "      <td>FAILURE</td>\n",
       "      <td>1992-10-30</td>\n",
       "    </tr>\n",
       "    <tr>\n",
       "      <th>10</th>\n",
       "      <td>FIRST CITY, TEXAS - LAKE JACKSON</td>\n",
       "      <td>LAKE JACKSON</td>\n",
       "      <td>TX</td>\n",
       "      <td>ASSISTANCE</td>\n",
       "      <td>1988-04-20</td>\n",
       "    </tr>\n",
       "    <tr>\n",
       "      <th>11</th>\n",
       "      <td>FIRST CITY, TEXAS - LAKE JACKSON</td>\n",
       "      <td>LAKE JACKSON</td>\n",
       "      <td>TX</td>\n",
       "      <td>FAILURE</td>\n",
       "      <td>1992-10-30</td>\n",
       "    </tr>\n",
       "    <tr>\n",
       "      <th>12</th>\n",
       "      <td>FIRST CITY, TEXAS - MADISONVILLE</td>\n",
       "      <td>MADISONVILLE</td>\n",
       "      <td>TX</td>\n",
       "      <td>ASSISTANCE</td>\n",
       "      <td>1988-04-20</td>\n",
       "    </tr>\n",
       "    <tr>\n",
       "      <th>13</th>\n",
       "      <td>FIRST CITY, TEXAS - MADISONVILLE</td>\n",
       "      <td>MADISONVILLE</td>\n",
       "      <td>TX</td>\n",
       "      <td>FAILURE</td>\n",
       "      <td>1992-10-30</td>\n",
       "    </tr>\n",
       "    <tr>\n",
       "      <th>14</th>\n",
       "      <td>FIRST CITY, TEXAS - SAN ANTONIO</td>\n",
       "      <td>SAN ANTONIO</td>\n",
       "      <td>TX</td>\n",
       "      <td>ASSISTANCE</td>\n",
       "      <td>1988-04-20</td>\n",
       "    </tr>\n",
       "    <tr>\n",
       "      <th>15</th>\n",
       "      <td>FIRST CITY, TEXAS - SAN ANTONIO</td>\n",
       "      <td>SAN ANTONIO</td>\n",
       "      <td>TX</td>\n",
       "      <td>FAILURE</td>\n",
       "      <td>1992-10-30</td>\n",
       "    </tr>\n",
       "    <tr>\n",
       "      <th>16</th>\n",
       "      <td>FIRST CITY, TEXAS - SOUR LAKE</td>\n",
       "      <td>SOUR LAKE</td>\n",
       "      <td>TX</td>\n",
       "      <td>ASSISTANCE</td>\n",
       "      <td>1988-04-20</td>\n",
       "    </tr>\n",
       "    <tr>\n",
       "      <th>17</th>\n",
       "      <td>FIRST CITY, TEXAS - SOUR LAKE</td>\n",
       "      <td>SOUR LAKE</td>\n",
       "      <td>TX</td>\n",
       "      <td>FAILURE</td>\n",
       "      <td>1992-10-30</td>\n",
       "    </tr>\n",
       "    <tr>\n",
       "      <th>18</th>\n",
       "      <td>FIRST DAKOTA HOME S&amp;LA</td>\n",
       "      <td>PIERRE</td>\n",
       "      <td>SD</td>\n",
       "      <td>ASSISTANCE</td>\n",
       "      <td>1982-09-20</td>\n",
       "    </tr>\n",
       "    <tr>\n",
       "      <th>19</th>\n",
       "      <td>FIRST DAKOTA HOME S&amp;LA</td>\n",
       "      <td>PIERRE</td>\n",
       "      <td>SD</td>\n",
       "      <td>ASSISTANCE</td>\n",
       "      <td>1983-06-10</td>\n",
       "    </tr>\n",
       "    <tr>\n",
       "      <th>20</th>\n",
       "      <td>FIRST FINANCIAL BANK, FSB</td>\n",
       "      <td>NEW ORLEANS</td>\n",
       "      <td>LA</td>\n",
       "      <td>ASSISTANCE</td>\n",
       "      <td>1985-05-10</td>\n",
       "    </tr>\n",
       "    <tr>\n",
       "      <th>21</th>\n",
       "      <td>FIRST FINANCIAL BANK, FSB</td>\n",
       "      <td>NEW ORLEANS</td>\n",
       "      <td>LA</td>\n",
       "      <td>ASSISTANCE</td>\n",
       "      <td>1987-12-31</td>\n",
       "    </tr>\n",
       "    <tr>\n",
       "      <th>22</th>\n",
       "      <td>FIRST FS&amp;LA OF SIOUX FALLS</td>\n",
       "      <td>SIOUX FALLS</td>\n",
       "      <td>SD</td>\n",
       "      <td>ASSISTANCE</td>\n",
       "      <td>1982-09-20</td>\n",
       "    </tr>\n",
       "    <tr>\n",
       "      <th>23</th>\n",
       "      <td>FIRST FS&amp;LA OF SIOUX FALLS</td>\n",
       "      <td>SIOUX FALLS</td>\n",
       "      <td>SD</td>\n",
       "      <td>ASSISTANCE</td>\n",
       "      <td>1983-06-10</td>\n",
       "    </tr>\n",
       "    <tr>\n",
       "      <th>24</th>\n",
       "      <td>LIVINGSTON STATE BANK</td>\n",
       "      <td>LIVINGSTON</td>\n",
       "      <td>NJ</td>\n",
       "      <td>FAILURE</td>\n",
       "      <td>1935-12-14</td>\n",
       "    </tr>\n",
       "    <tr>\n",
       "      <th>25</th>\n",
       "      <td>LIVINGSTON STATE BANK</td>\n",
       "      <td>LIVINGSTON</td>\n",
       "      <td>NJ</td>\n",
       "      <td>FAILURE</td>\n",
       "      <td>1979-10-12</td>\n",
       "    </tr>\n",
       "    <tr>\n",
       "      <th>26</th>\n",
       "      <td>SECURITY SAVINGS ASSOCIATION</td>\n",
       "      <td>TEXARKANA</td>\n",
       "      <td>TX</td>\n",
       "      <td>FAILURE</td>\n",
       "      <td>1987-06-11</td>\n",
       "    </tr>\n",
       "    <tr>\n",
       "      <th>27</th>\n",
       "      <td>SECURITY SAVINGS ASSOCIATION</td>\n",
       "      <td>TEXARKANA</td>\n",
       "      <td>TX</td>\n",
       "      <td>FAILURE</td>\n",
       "      <td>1989-03-16</td>\n",
       "    </tr>\n",
       "    <tr>\n",
       "      <th>28</th>\n",
       "      <td>THE TALMAGE STATE BANK</td>\n",
       "      <td>TALMAGE</td>\n",
       "      <td>KS</td>\n",
       "      <td>ASSISTANCE</td>\n",
       "      <td>1986-04-16</td>\n",
       "    </tr>\n",
       "    <tr>\n",
       "      <th>29</th>\n",
       "      <td>THE TALMAGE STATE BANK</td>\n",
       "      <td>TALMAGE</td>\n",
       "      <td>KS</td>\n",
       "      <td>FAILURE</td>\n",
       "      <td>1987-09-17</td>\n",
       "    </tr>\n",
       "  </tbody>\n",
       "</table>\n",
       "</div>"
      ],
      "text/plain": [
       "                     InstitutionName      Location State  Resolution  \\\n",
       "0             AMERICAN NATIONAL BANK         PARMA    OH  ASSISTANCE   \n",
       "1             AMERICAN NATIONAL BANK         PARMA    OH     FAILURE   \n",
       "2                      BOHEMIAN S&LA     ST. LOUIS    MO  ASSISTANCE   \n",
       "3                      BOHEMIAN S&LA     ST. LOUIS    MO     FAILURE   \n",
       "4                    CROSSROADS BANK      VICTORIA    TX  ASSISTANCE   \n",
       "5                    CROSSROADS BANK      VICTORIA    TX     FAILURE   \n",
       "6   FIRST CITY, TEXAS - ARANSAS PASS  ARANSAS PASS    TX  ASSISTANCE   \n",
       "7   FIRST CITY, TEXAS - ARANSAS PASS  ARANSAS PASS    TX     FAILURE   \n",
       "8    FIRST CITY, TEXAS - HOUSTON, NA       HOUSTON    TX  ASSISTANCE   \n",
       "9    FIRST CITY, TEXAS - HOUSTON, NA       HOUSTON    TX     FAILURE   \n",
       "10  FIRST CITY, TEXAS - LAKE JACKSON  LAKE JACKSON    TX  ASSISTANCE   \n",
       "11  FIRST CITY, TEXAS - LAKE JACKSON  LAKE JACKSON    TX     FAILURE   \n",
       "12  FIRST CITY, TEXAS - MADISONVILLE  MADISONVILLE    TX  ASSISTANCE   \n",
       "13  FIRST CITY, TEXAS - MADISONVILLE  MADISONVILLE    TX     FAILURE   \n",
       "14   FIRST CITY, TEXAS - SAN ANTONIO   SAN ANTONIO    TX  ASSISTANCE   \n",
       "15   FIRST CITY, TEXAS - SAN ANTONIO   SAN ANTONIO    TX     FAILURE   \n",
       "16     FIRST CITY, TEXAS - SOUR LAKE     SOUR LAKE    TX  ASSISTANCE   \n",
       "17     FIRST CITY, TEXAS - SOUR LAKE     SOUR LAKE    TX     FAILURE   \n",
       "18            FIRST DAKOTA HOME S&LA        PIERRE    SD  ASSISTANCE   \n",
       "19            FIRST DAKOTA HOME S&LA        PIERRE    SD  ASSISTANCE   \n",
       "20         FIRST FINANCIAL BANK, FSB   NEW ORLEANS    LA  ASSISTANCE   \n",
       "21         FIRST FINANCIAL BANK, FSB   NEW ORLEANS    LA  ASSISTANCE   \n",
       "22        FIRST FS&LA OF SIOUX FALLS   SIOUX FALLS    SD  ASSISTANCE   \n",
       "23        FIRST FS&LA OF SIOUX FALLS   SIOUX FALLS    SD  ASSISTANCE   \n",
       "24             LIVINGSTON STATE BANK    LIVINGSTON    NJ     FAILURE   \n",
       "25             LIVINGSTON STATE BANK    LIVINGSTON    NJ     FAILURE   \n",
       "26      SECURITY SAVINGS ASSOCIATION     TEXARKANA    TX     FAILURE   \n",
       "27      SECURITY SAVINGS ASSOCIATION     TEXARKANA    TX     FAILURE   \n",
       "28            THE TALMAGE STATE BANK       TALMAGE    KS  ASSISTANCE   \n",
       "29            THE TALMAGE STATE BANK       TALMAGE    KS     FAILURE   \n",
       "\n",
       "   EffectiveDate  \n",
       "0     1988-02-12  \n",
       "1     2010-03-19  \n",
       "2     1983-12-01  \n",
       "3     1986-01-30  \n",
       "4     1987-12-03  \n",
       "5     1991-03-14  \n",
       "6     1988-04-20  \n",
       "7     1992-10-30  \n",
       "8     1988-04-20  \n",
       "9     1992-10-30  \n",
       "10    1988-04-20  \n",
       "11    1992-10-30  \n",
       "12    1988-04-20  \n",
       "13    1992-10-30  \n",
       "14    1988-04-20  \n",
       "15    1992-10-30  \n",
       "16    1988-04-20  \n",
       "17    1992-10-30  \n",
       "18    1982-09-20  \n",
       "19    1983-06-10  \n",
       "20    1985-05-10  \n",
       "21    1987-12-31  \n",
       "22    1982-09-20  \n",
       "23    1983-06-10  \n",
       "24    1935-12-14  \n",
       "25    1979-10-12  \n",
       "26    1987-06-11  \n",
       "27    1989-03-16  \n",
       "28    1986-04-16  \n",
       "29    1987-09-17  "
      ]
     },
     "execution_count": 24,
     "metadata": {},
     "output_type": "execute_result"
    }
   ],
   "source": [
    "duplicated_rows = data[data.duplicated\n",
    "                       (subset=['InstitutionName', 'Location','State'], keep=False)].sort_values(['InstitutionName', \n",
    "                                                                                                  'State','EffectiveDate'])\n",
    "result = duplicated_rows[['InstitutionName', 'Location', 'State', 'Resolution', 'EffectiveDate']]\n",
    "result.reset_index(drop=True)"
   ]
  },
  {
   "cell_type": "code",
   "execution_count": 25,
   "metadata": {},
   "outputs": [],
   "source": [
    "# Most banks still failed, after being assisted once or more, in the order of ASSISTANCE, THEN FAILURE (as the date shows)"
   ]
  },
  {
   "cell_type": "markdown",
   "metadata": {},
   "source": [
    "#### `"
   ]
  },
  {
   "cell_type": "markdown",
   "metadata": {},
   "source": [
    "#### bank failure trend"
   ]
  },
  {
   "cell_type": "code",
   "execution_count": 27,
   "metadata": {},
   "outputs": [
    {
     "data": {
      "image/png": "[encoded data removed]",
      "text/plain": [
       "<Figure size 720x432 with 1 Axes>"
      ]
     },
     "metadata": {},
     "output_type": "display_data"
    }
   ],
   "source": [
    "# Group data by year and count the number of bank failures\n",
    "bank_failures_by_year = data.groupby(data['EffectiveDate'].dt.year)['InstitutionName'].count()\n",
    "\n",
    "# Create a line plot of bank failures over time using seaborn\n",
    "sns.set_style('whitegrid')\n",
    "sns.set(rc={'figure.figsize':(10,6)})\n",
    "sns.lineplot(x=bank_failures_by_year.index, y=bank_failures_by_year.values, color='blue')\n",
    "plt.xlabel('Year')\n",
    "plt.ylabel('Number of Bank Failures')\n",
    "plt.title('Bank Failures by Year')\n",
    "plt.show()"
   ]
  },
  {
   "cell_type": "markdown",
   "metadata": {},
   "source": [
    "#### `"
   ]
  },
  {
   "cell_type": "markdown",
   "metadata": {},
   "source": [
    "#### Transaction Category: Which Transaction_type has more FAILURE or otherwise?"
   ]
  },
  {
   "cell_type": "code",
   "execution_count": 28,
   "metadata": {
    "scrolled": true
   },
   "outputs": [
    {
     "data": {
      "text/plain": [
       "array(['PA', 'PI', 'PO', 'DINB', 'OBAM', 'IDT', 'A/A', 'REP', 'ABT',\n",
       "       'MGR', 'P&A'], dtype=object)"
      ]
     },
     "execution_count": 28,
     "metadata": {},
     "output_type": "execute_result"
    }
   ],
   "source": [
    "# distinct TransactionType seen in the data\n",
    "data['TransactionType'].unique()"
   ]
  },
  {
   "cell_type": "code",
   "execution_count": 29,
   "metadata": {},
   "outputs": [
    {
     "data": {
      "text/html": [
       "<div>\n",
       "<style scoped>\n",
       "    .dataframe tbody tr th:only-of-type {\n",
       "        vertical-align: middle;\n",
       "    }\n",
       "\n",
       "    .dataframe tbody tr th {\n",
       "        vertical-align: top;\n",
       "    }\n",
       "\n",
       "    .dataframe thead th {\n",
       "        text-align: right;\n",
       "    }\n",
       "</style>\n",
       "<table border=\"1\" class=\"dataframe\">\n",
       "  <thead>\n",
       "    <tr style=\"text-align: right;\">\n",
       "      <th>Resolution</th>\n",
       "      <th>ASSISTANCE</th>\n",
       "      <th>FAILURE</th>\n",
       "    </tr>\n",
       "    <tr>\n",
       "      <th>TransactionType</th>\n",
       "      <th></th>\n",
       "      <th></th>\n",
       "    </tr>\n",
       "  </thead>\n",
       "  <tbody>\n",
       "    <tr>\n",
       "      <th>PA</th>\n",
       "      <td>0</td>\n",
       "      <td>2097</td>\n",
       "    </tr>\n",
       "    <tr>\n",
       "      <th>PO</th>\n",
       "      <td>0</td>\n",
       "      <td>573</td>\n",
       "    </tr>\n",
       "    <tr>\n",
       "      <th>IDT</th>\n",
       "      <td>0</td>\n",
       "      <td>386</td>\n",
       "    </tr>\n",
       "    <tr>\n",
       "      <th>P&amp;A</th>\n",
       "      <td>0</td>\n",
       "      <td>251</td>\n",
       "    </tr>\n",
       "    <tr>\n",
       "      <th>PI</th>\n",
       "      <td>0</td>\n",
       "      <td>140</td>\n",
       "    </tr>\n",
       "    <tr>\n",
       "      <th>MGR</th>\n",
       "      <td>0</td>\n",
       "      <td>37</td>\n",
       "    </tr>\n",
       "    <tr>\n",
       "      <th>ABT</th>\n",
       "      <td>0</td>\n",
       "      <td>16</td>\n",
       "    </tr>\n",
       "    <tr>\n",
       "      <th>OBAM</th>\n",
       "      <td>0</td>\n",
       "      <td>13</td>\n",
       "    </tr>\n",
       "    <tr>\n",
       "      <th>DINB</th>\n",
       "      <td>0</td>\n",
       "      <td>9</td>\n",
       "    </tr>\n",
       "    <tr>\n",
       "      <th>REP</th>\n",
       "      <td>0</td>\n",
       "      <td>3</td>\n",
       "    </tr>\n",
       "    <tr>\n",
       "      <th>A/A</th>\n",
       "      <td>579</td>\n",
       "      <td>0</td>\n",
       "    </tr>\n",
       "  </tbody>\n",
       "</table>\n",
       "</div>"
      ],
      "text/plain": [
       "Resolution       ASSISTANCE  FAILURE\n",
       "TransactionType                     \n",
       "PA                        0     2097\n",
       "PO                        0      573\n",
       "IDT                       0      386\n",
       "P&A                       0      251\n",
       "PI                        0      140\n",
       "MGR                       0       37\n",
       "ABT                       0       16\n",
       "OBAM                      0       13\n",
       "DINB                      0        9\n",
       "REP                       0        3\n",
       "A/A                     579        0"
      ]
     },
     "execution_count": 29,
     "metadata": {},
     "output_type": "execute_result"
    }
   ],
   "source": [
    "pd.crosstab(data['TransactionType'], data['Resolution']).sort_values(by='FAILURE', ascending=False)"
   ]
  },
  {
   "cell_type": "code",
   "execution_count": 30,
   "metadata": {},
   "outputs": [
    {
     "data": {
      "image/png": "[encoded data removed]",
      "text/plain": [
       "<Figure size 720x432 with 1 Axes>"
      ]
     },
     "metadata": {},
     "output_type": "display_data"
    }
   ],
   "source": [
    "transaction_type = pd.crosstab(data['TransactionType'], data['Resolution'])\n",
    "transaction_type.sort_values(by='FAILURE', ascending=False).plot(kind='bar', stacked=True)\n",
    "plt.ylabel('Count')\n",
    "plt.xticks(rotation=45)\n",
    "plt.show()"
   ]
  },
  {
   "cell_type": "markdown",
   "metadata": {},
   "source": [
    "##### \"A/A\" actually means Assistance Transaction, being one of the Resolution types"
   ]
  },
  {
   "cell_type": "markdown",
   "metadata": {},
   "source": [
    "#### `"
   ]
  },
  {
   "cell_type": "markdown",
   "metadata": {},
   "source": [
    "####  CharterClass breakdown with respect to Resolution type (FAILURE or ASSISTANCE)"
   ]
  },
  {
   "cell_type": "code",
   "execution_count": 31,
   "metadata": {},
   "outputs": [
    {
     "data": {
      "text/plain": [
       "array(['NM', 'N', 'SB', 'SM', 'SI', 'SL', 'MI'], dtype=object)"
      ]
     },
     "execution_count": 31,
     "metadata": {},
     "output_type": "execute_result"
    }
   ],
   "source": [
    "data['CharterClass'].unique()"
   ]
  },
  {
   "cell_type": "code",
   "execution_count": 32,
   "metadata": {},
   "outputs": [
    {
     "data": {
      "image/png": "[encoded data removed]",
      "text/plain": [
       "<Figure size 720x432 with 1 Axes>"
      ]
     },
     "metadata": {},
     "output_type": "display_data"
    }
   ],
   "source": [
    "# create crosstab and sort by count of FAILURE\n",
    "transaction_type = pd.crosstab(data['CharterClass'], data['Resolution'])\n",
    "transaction_type = transaction_type.sort_values(by='FAILURE', ascending=False)\n",
    "\n",
    "# plot the bar chart with the original order\n",
    "transaction_type.plot(kind='bar', stacked=False)\n",
    "plt.xticks(rotation=45)\n",
    "plt.show()"
   ]
  },
  {
   "cell_type": "code",
   "execution_count": 33,
   "metadata": {
    "scrolled": true
   },
   "outputs": [
    {
     "data": {
      "text/html": [
       "<div>\n",
       "<style scoped>\n",
       "    .dataframe tbody tr th:only-of-type {\n",
       "        vertical-align: middle;\n",
       "    }\n",
       "\n",
       "    .dataframe tbody tr th {\n",
       "        vertical-align: top;\n",
       "    }\n",
       "\n",
       "    .dataframe thead th {\n",
       "        text-align: right;\n",
       "    }\n",
       "</style>\n",
       "<table border=\"1\" class=\"dataframe\">\n",
       "  <thead>\n",
       "    <tr style=\"text-align: right;\">\n",
       "      <th>Resolution</th>\n",
       "      <th>ASSISTANCE</th>\n",
       "      <th>FAILURE</th>\n",
       "    </tr>\n",
       "    <tr>\n",
       "      <th>CharterClass</th>\n",
       "      <th></th>\n",
       "      <th></th>\n",
       "    </tr>\n",
       "  </thead>\n",
       "  <tbody>\n",
       "    <tr>\n",
       "      <th>NM</th>\n",
       "      <td>61</td>\n",
       "      <td>1521</td>\n",
       "    </tr>\n",
       "    <tr>\n",
       "      <th>N</th>\n",
       "      <td>58</td>\n",
       "      <td>770</td>\n",
       "    </tr>\n",
       "    <tr>\n",
       "      <th>SL</th>\n",
       "      <td>408</td>\n",
       "      <td>689</td>\n",
       "    </tr>\n",
       "    <tr>\n",
       "      <th>SB</th>\n",
       "      <td>30</td>\n",
       "      <td>273</td>\n",
       "    </tr>\n",
       "    <tr>\n",
       "      <th>SM</th>\n",
       "      <td>6</td>\n",
       "      <td>205</td>\n",
       "    </tr>\n",
       "    <tr>\n",
       "      <th>SI</th>\n",
       "      <td>4</td>\n",
       "      <td>65</td>\n",
       "    </tr>\n",
       "    <tr>\n",
       "      <th>MI</th>\n",
       "      <td>12</td>\n",
       "      <td>2</td>\n",
       "    </tr>\n",
       "  </tbody>\n",
       "</table>\n",
       "</div>"
      ],
      "text/plain": [
       "Resolution    ASSISTANCE  FAILURE\n",
       "CharterClass                     \n",
       "NM                    61     1521\n",
       "N                     58      770\n",
       "SL                   408      689\n",
       "SB                    30      273\n",
       "SM                     6      205\n",
       "SI                     4       65\n",
       "MI                    12        2"
      ]
     },
     "execution_count": 33,
     "metadata": {},
     "output_type": "execute_result"
    }
   ],
   "source": [
    "pd.crosstab(data['CharterClass'], data['Resolution']).sort_values(by='FAILURE', ascending=False)"
   ]
  },
  {
   "cell_type": "markdown",
   "metadata": {},
   "source": [
    "#### `"
   ]
  },
  {
   "cell_type": "markdown",
   "metadata": {},
   "source": [
    "#### Correlation between Estimated Loss and Total Assets"
   ]
  },
  {
   "cell_type": "code",
   "execution_count": 34,
   "metadata": {},
   "outputs": [
    {
     "data": {
      "image/png": "[encoded data removed]",
      "text/plain": [
       "<Figure size 720x432 with 2 Axes>"
      ]
     },
     "metadata": {},
     "output_type": "display_data"
    }
   ],
   "source": [
    "# Filter out rows where EstimatedLoss or TotalAssets are missing\n",
    "data_ = data.dropna(subset=['EstimatedLoss', 'TotalAssets'])\n",
    "\n",
    "# Compute the correlation matrix\n",
    "corr = data_[['EstimatedLoss', 'TotalAssets']].corr()\n",
    "\n",
    "# Plot the correlation matrix as a heatmap\n",
    "sns.heatmap(corr, cmap='coolwarm', annot=True, fmt='.2f')\n",
    "plt.title('Correlation Matrix: Estimated Loss vs Total Assets')\n",
    "plt.show()"
   ]
  },
  {
   "cell_type": "code",
   "execution_count": 35,
   "metadata": {},
   "outputs": [
    {
     "data": {
      "image/png": "[encoded data removed]",
      "text/plain": [
       "<Figure size 720x432 with 1 Axes>"
      ]
     },
     "metadata": {},
     "output_type": "display_data"
    },
    {
     "name": "stdout",
     "output_type": "stream",
     "text": [
      "Correlation coefficient: 0.17682026910049475\n"
     ]
    }
   ],
   "source": [
    "# Select only the rows with non-missing EstimatedLoss and TotalAssets values\n",
    "selected_data = data[['EstimatedLoss', 'TotalAssets']].dropna()\n",
    "\n",
    "# Create a scatter plot of EstimatedLoss vs TotalAssets\n",
    "plt.scatter(selected_data['EstimatedLoss'], selected_data['TotalAssets'])\n",
    "plt.xlabel('Estimated Loss')\n",
    "plt.ylabel('Total Assets')\n",
    "plt.show()\n",
    "\n",
    "# Calculate the correlation coefficient\n",
    "correlation = np.corrcoef(selected_data['EstimatedLoss'], selected_data['TotalAssets'])[0, 1]\n",
    "print('Correlation coefficient:', correlation)"
   ]
  },
  {
   "cell_type": "markdown",
   "metadata": {},
   "source": [
    "#### `"
   ]
  },
  {
   "cell_type": "markdown",
   "metadata": {},
   "source": [
    "##### Data exploration here is \"as is\" or as got from the data source; \n",
    "##### it is highly subjected to right interpretations from financial standpoints and by economic and/or financial analysts"
   ]
  },
  {
   "cell_type": "markdown",
   "metadata": {},
   "source": [
    "#####  https://www.linkedin.com/in/dare-johnson/"
   ]
  }
 ],
 "metadata": {
  "kernelspec": {
   "display_name": "Python 3",
   "language": "python",
   "name": "python3"
  },
  "language_info": {
   "codemirror_mode": {
    "name": "ipython",
    "version": 3
   },
   "file_extension": ".py",
   "mimetype": "text/x-python",
   "name": "python",
   "nbconvert_exporter": "python",
   "pygments_lexer": "ipython3",
   "version": "3.8.5"
  }
 },
 "nbformat": 4,
 "nbformat_minor": 4
}
